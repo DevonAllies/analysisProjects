{
  "cells": [
    {
      "cell_type": "markdown",
      "metadata": {},
      "source": [
        "---\n",
        "title: \"TB Trends: Global & Regional Insights\"\n",
        "format:\n",
        "  html:\n",
        "    toc: true\n",
        "    toc-location: left\n",
        "    fig-align: center\n",
        "    fig-cap-location: bottom\n",
        "    other-links:\n",
        "      - text: Tuberculosis Trend - Kaggle Dataset\n",
        "        href: https://www.kaggle.com/datasets/khushikyad001/tuberculosis-trends-global-and-regional-insights/data\n",
        "    \n",
        "execute:\n",
        "  echo: false\n",
        "  warning: false\n",
        "  message: false\n",
        "\n",
        "editor: visual\n",
        "\n",
        "bibliography: references.bib\n",
        "csl: harvard-stellenbosch-university.csl\n",
        "\n",
        "filters:\n",
        "  - acronyms\n",
        "\n",
        "acronyms:\n",
        "    keys:\n",
        "      - shortname: TB\n",
        "        longname: Tuberculosis\n",
        "      - shortname: WHO\n",
        "        longname: World Health Organisation\n",
        "      - shortname: LTBI\n",
        "        longname: latent Tuberculosis infection\n",
        "      - shortname: MTB\n",
        "        longname: Mycobacterium tuberculosis\n",
        "      - shortname: MSE\n",
        "        longname: Mean Squared Error\n",
        "---\n",
        "\n",
        "# Packages \\| Modules \\| Environments:\n",
        "\n",
        "```{r}\n",
        "#| label: installLoadPackages\n",
        "\n",
        "# Required packages\n",
        "requiredPackages <- c(\"tidyverse\", \"reticulate\", \"scales\", \"readxl\", \"REDCapR\", \"RKaggle\")\n",
        "\n",
        "# Function to check if packages are installed\n",
        "installPackages <- function(pkg) {\n",
        "  if(!requireNamespace(pkg, quietly = TRUE)) {\n",
        "    install.packages(pkg, dependencies = TRUE, quiet = FALSE)\n",
        "  }\n",
        "}\n",
        "\n",
        "# Install packages if not found on local\n",
        "invisible(sapply(requiredPackages, installPackages))\n",
        "\n",
        "# Load packages\n",
        "invisible(lapply(requiredPackages, library, character.only = TRUE))\n",
        "```\n",
        "\n",
        "```{r}\n",
        "#| label: installPythonPackages\n",
        "\n",
        "# Include the required packages\n",
        "pythonPackages <- c('numpy', 'pandas', 'seaborn', 'matplotlib', 'statsmodels', 'scienceplots', 'scikit-learn')\n",
        "\n",
        "# Function to check whether the packages / modules have been installed\n",
        "installPythonPackages <- function(packages) {\n",
        "  for(pkg in packages) {\n",
        "    if(!reticulate::py_module_available(pkg)) {\n",
        "      message(\"Installing Python packages \", pkg)\n",
        "      reticulate::py_install(pkg, pip = FALSE)\n",
        "    } else {\n",
        "      message(\"Python package \", pkg, \"is already installed\")\n",
        "    }\n",
        "  }\n",
        "}\n",
        "\n",
        "# Install packages\n",
        "installPythonPackages(pythonPackages)\n",
        "```"
      ]
    },
    {
      "cell_type": "code",
      "metadata": {},
      "source": [
        "#| label: loadPythonModules\n",
        "\n",
        "# Import python modules\n",
        "import numpy as np\n",
        "import pandas as pd\n",
        "import matplotlib.pyplot as plt\n",
        "import statsmodels.api as sm\n",
        "import scienceplots\n",
        "import seaborn as sns"
      ],
      "execution_count": null,
      "outputs": []
    },
    {
      "cell_type": "markdown",
      "metadata": {},
      "source": [
        "# Import Data:\n",
        "\n",
        "```{r}\n",
        "#| label: importDataSet\n",
        "\n",
        "# Import dataset from Kaggle\n",
        "tbTrends <- get_dataset('khushikyad001/tuberculosis-trends-global-and-regional-insights')\n",
        "\n",
        "colnames(tbTrends)\n",
        "```"
      ]
    },
    {
      "cell_type": "code",
      "metadata": {},
      "source": [
        "#| label: convertDataset\n",
        "\n",
        "# Convert R object to Python object using Reticulate\n",
        "tbTrends = r.tbTrends"
      ],
      "execution_count": null,
      "outputs": []
    },
    {
      "cell_type": "markdown",
      "metadata": {},
      "source": [
        "# Introduction:\n",
        "\n",
        "This analysis project uses the {{< acr TB >}} Trends dataset from Kaggle [@tbtrends_kaggle]. A link has be provided to the data under Other Links.\n",
        "\n",
        "{{< acr TB >}} is a respirator disease caused by {{< acr MTB >}}. It is spread through the air via droplets when individuals who are infected with {{< acr MTB >}} cough, sneeze, or spit. According to the {{< acr WHO >}}, {{< acr TB >}} caused 1.25 million deaths in 2023, and it is estimated that 25% of the global population is infected with {{< acr MTB >}} [@li_2023].\n",
        "\n",
        "@fig-casesDeaths indicates the amount of {{< acr TB >}} cases and deaths since 2000 up until 2024.\n",
        "\n",
        "# Exploratory Data Analysis:\n",
        "\n",
        "## Data types per column:\n",
        "\n",
        "@tbl-DataTypes provides a summary of the `tbTrends` dataframe. It outputs information about each column, including column name and the type assigned to each of the columns. This helps us in understanding the nature of our data."
      ]
    },
    {
      "cell_type": "code",
      "metadata": {},
      "source": [
        "#| label: tbl-DataTypes\n",
        "#| tbl-cap: 'The table indicates the nature of the data'\n",
        "#| tbl-cap-location: bottom\n",
        "\n",
        "# Display data types for each column\n",
        "pd.DataFrame(tbTrends.dtypes, columns=['dtype']).reset_index().rename(columns={'index': 'column'})"
      ],
      "execution_count": null,
      "outputs": []
    },
    {
      "cell_type": "markdown",
      "metadata": {},
      "source": [
        "## Missing values:\n",
        "\n",
        "@tbl-MissingValues calculates and displays the number of missing values present in each column within our `{tbTrends}` dateframe. This information helps us decide in appropriate cleaning steps."
      ]
    },
    {
      "cell_type": "code",
      "metadata": {},
      "source": [
        "#| label: tbl-MissingValues\n",
        "#| tbl-cap: 'The table indicates the amount of missing values per column'\n",
        "#| tbl-cap-location: bottom\n",
        "\n",
        "# Missing values\n",
        "tbTrends.isnull().sum().reset_index().rename(columns={'index': 'column', 0: 'missing_values'})"
      ],
      "execution_count": null,
      "outputs": []
    },
    {
      "cell_type": "markdown",
      "metadata": {},
      "source": [
        "# Data focused on South Africa:\n",
        "\n",
        "## Cleaned data:\n",
        "\n",
        "@tbl-southAfrica shows the effects made to clean the data for further analysis. Several operations have been performed on `tbTrends`, and a new dataframe, `clean` was created. The operations included dropping the following columns:\n",
        "\n",
        "-   `Region`\n",
        "\n",
        "-   `Country`\n",
        "\n",
        "-   `Income_level`\n",
        "\n",
        "These are not needed for further analysis within this analysis. The data is grouped by `Year` and we calculate the sum of the values for each year. We `reset_index` to convert the output back a dataframe.\n",
        "\n",
        "## TB Stats in South Africa:"
      ]
    },
    {
      "cell_type": "code",
      "metadata": {},
      "source": [
        "#| label: tbl-southAfrica\n",
        "#| tbl-cap: 'Table showing the removal of several columns and aggregating the data'\n",
        "#| tbl-cap-location: bottom\n",
        "\n",
        "# Filter Data to show South Africa\n",
        "southAfrica = tbTrends[tbTrends['Country'] == 'South Africa']\n",
        "\n",
        "# Group Data by year and Drop columns\n",
        "clean = southAfrica.drop(columns=['Region', 'Income_Level', 'Country']).groupby('Year').sum().reset_index()\n",
        "\n",
        "clean.head()"
      ],
      "execution_count": null,
      "outputs": []
    },
    {
      "cell_type": "markdown",
      "metadata": {},
      "source": [
        "@fig-casesDeaths is a lineplot that visualises the trend of {{< acr TB >}} cases and deaths in 'South Africa' over several years."
      ]
    },
    {
      "cell_type": "code",
      "metadata": {},
      "source": [
        "#| label: fig-casesDeaths\n",
        "#| fig-cap: 'TB Cases vs TB Deaths per year'\n",
        "#| fig-align: 'center'\n",
        "#| fig-cap-location: bottom\n",
        "\n",
        "import matplotlib.ticker as ticker\n",
        "plt.style.use(['nature', 'science'])\n",
        "\n",
        "plt.figure(figsize=(12,8), dpi=300)\n",
        "sns.lineplot(data=clean, x='Year', y='TB_Cases', label='TB Cases (per year)')\n",
        "sns.lineplot(data=clean, x='Year', y='TB_Deaths', label='TB Deaths (per year)')\n",
        "plt.title('TB cases vs TB deaths')\n",
        "plt.xlabel('Year')\n",
        "plt.ylabel('Counts')\n",
        "plt.gca().yaxis.set_major_formatter(ticker.StrMethodFormatter('{x:,.0f}'))\n",
        "plt.legend()\n",
        "plt.show()"
      ],
      "execution_count": null,
      "outputs": []
    },
    {
      "cell_type": "code",
      "metadata": {},
      "source": [
        "#| label: fig-TBCasesDistr\n",
        "#| fig-cap: 'Figure to indicate distribution'\n",
        "#| fig-cap-location: bottom\n",
        "\n",
        "# Check whether TB_Cases are normally distributed\n",
        "plt.figure(figsize=(12,8), dpi=300)\n",
        "sns.histplot(clean['TB_Cases'], kde=True)\n",
        "plt.title('Distribution Plot for TB Cases')\n",
        "plt.xlabel('TB Cases')\n",
        "plt.ylabel('Count')\n",
        "plt.show()"
      ],
      "execution_count": null,
      "outputs": []
    },
    {
      "cell_type": "markdown",
      "metadata": {},
      "source": [
        "## QQ Plot:\n",
        "\n",
        "QQ Plot that is used to check whether our data follows a normal distribution.\n",
        "\n",
        "Why does the QQ Plot show. On the x-axis, it shows what the theoretical quantiles should be and the y-axis shows our data."
      ]
    },
    {
      "cell_type": "code",
      "metadata": {},
      "source": [
        "#| label: fig-QQPlotTBCases\n",
        "#| fig-cap: 'QQ Plot'\n",
        "#| fig-cap-location: bottom\n",
        "\n",
        "sm.qqplot(clean['TB_Cases'], line='s')\n",
        "plt.title('QQ Plot')\n",
        "plt.show()"
      ],
      "execution_count": null,
      "outputs": []
    },
    {
      "cell_type": "code",
      "metadata": {},
      "source": [
        "#| label: fig-TBDeathsDist\n",
        "#| fig-cap: 'Figure to show distribition of TB Deaths data'\n",
        "#| fig-cap-location: bottom\n",
        "\n",
        "plt.figure(figsize=(12,8), dpi=300)\n",
        "sns.histplot(clean['TB_Deaths'], kde=True)\n",
        "plt.title('Distribution Plot for TB Deaths')\n",
        "plt.xlabel('TB Deaths')\n",
        "plt.ylabel('Count')\n",
        "plt.show()"
      ],
      "execution_count": null,
      "outputs": []
    },
    {
      "cell_type": "code",
      "metadata": {},
      "source": [
        "#| label: fig-LinearRegression\n",
        "\n",
        "# Import the required model\n",
        "from sklearn.model_selection import train_test_split\n",
        "from sklearn.linear_model import LinearRegression\n",
        "from sklearn.metrics import mean_squared_error\n",
        "from sklearn.preprocessing import StandardScaler\n",
        "\n",
        "# Assign the target and feature\n",
        "X = clean.drop('TB_Cases', axis=1)\n",
        "y = clean['TB_Cases']\n",
        "\n",
        "# Split the data FIRST before scaling\n",
        "X_train, X_test, y_train, y_test = train_test_split(X, y, test_size=0.3, random_state=39)\n",
        "\n",
        "# Initialize scaler\n",
        "scaler = StandardScaler()\n",
        "\n",
        "# Fit the scaler on TRAIN data only, then transform both train and test\n",
        "X_train_scaled = scaler.fit_transform(X_train)  # fit_transform for training data\n",
        "X_test_scaled = scaler.transform(X_test)       # transform only for test data\n",
        "\n",
        "# Initiate the model\n",
        "model = LinearRegression().fit(X_train_scaled, y_train)\n",
        "\n",
        "# Make predictions\n",
        "y_pred = model.predict(X_test_scaled)\n",
        "\n",
        "# Evaluate\n",
        "mse = mean_squared_error(y_test, y_pred)"
      ],
      "execution_count": null,
      "outputs": []
    },
    {
      "cell_type": "markdown",
      "metadata": {},
      "source": [
        "```{r}\n",
        "mseR <- py$mse\n",
        "```"
      ]
    },
    {
      "cell_type": "code",
      "metadata": {},
      "source": [
        "#| label: fig-LinReg\n",
        "#| fig-cap: ' Linear Regression plot'\n",
        "\n",
        "linRes = y_test - y_pred\n",
        "plt.figure(figsize=(12,8), dpi=300)\n",
        "plt.scatter(y_pred , linRes)\n",
        "plt.axhline(y=0, color='red', linestyle='-')\n",
        "plt.title('Linear Regression between TB Cases and Smoking')\n",
        "plt.show()"
      ],
      "execution_count": null,
      "outputs": []
    },
    {
      "cell_type": "markdown",
      "metadata": {},
      "source": [
        "As we can see from @fig-LinReg, and the {{< acr MSE >}}, a value of `{r} format(mseR, digits=2, nsmall=2)` the measurement of how far the model's prediction are from the actual values, is very high. This indicates that the model performed poorly. This model, Linear Regression, failed to capture the patterns in the data."
      ]
    },
    {
      "cell_type": "code",
      "metadata": {},
      "source": [
        "#| label: fig-RandomForest\n",
        "#| fig-cap: 'Plot using Random Foreset as a model'\n",
        "\n",
        "from sklearn.ensemble import RandomForestRegressor\n",
        "\n",
        "rf = RandomForestRegressor()\n",
        "rf.fit(X_train, y_train)\n",
        "rfy_pred = rf.predict(X_test)\n",
        "\n",
        "randomForestMSE = mean_squared_error(y_test,rfy_pred)\n",
        "\n",
        "plt.figure(figsize=(12,8), dpi=300)\n",
        "plt.scatter(y_test, rfy_pred, alpha=0.5, label='Predition')\n",
        "plt.plot([y_test.min(), y_test.max()], [y_test.min(), y_test.max()], 'r--', label='Perfect Prediction')\n",
        "plt.legend()\n",
        "plt.show()"
      ],
      "execution_count": null,
      "outputs": []
    },
    {
      "cell_type": "markdown",
      "metadata": {},
      "source": [
        "```{r}\n",
        "#| label: randomForestConversion\n",
        "randomForestMSE <- py$randomForestMSE\n",
        "```\n",
        "\n",
        "As we can see, the {{< acr MSE >}} for the Random Forest Model is `{r} format(randomForestMSE, digits=2, nsmall=2)`. This is out performs the Linear Regression model that was used earlier.\n",
        "\n",
        "# Future Work:\n",
        "\n",
        "-   Looking at different Feature `X` compared to the Target `y`\n",
        "\n",
        "-   Looking at different regions and some comparisons.\n",
        "\n",
        "\\newpage\n",
        "\n",
        "# Bibliography:"
      ]
    }
  ],
  "metadata": {
    "kernelspec": {
      "display_name": "Python 3",
      "language": "python",
      "name": "python3"
    }
  },
  "nbformat": 4,
  "nbformat_minor": 4
}